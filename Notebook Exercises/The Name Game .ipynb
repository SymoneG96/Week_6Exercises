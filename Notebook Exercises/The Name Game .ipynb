{
 "cells": [
  {
   "cell_type": "markdown",
   "id": "f001d802-c590-4a35-878c-7064c93dbabd",
   "metadata": {},
   "source": [
    "## The Name Game Code"
   ]
  },
  {
   "cell_type": "markdown",
   "id": "b8a04b51-9214-412e-9024-238403e44f6d",
   "metadata": {},
   "source": [
    "The \"Name Game\" is a children's song and game where you create fun variations of a person's name by replacing the beginning consonant sounds with different sounds and syllables. The game usually involves singing a set of verses with the modified name, adding a playful and interactive element to learning about names and sounds."
   ]
  },
  {
   "cell_type": "code",
   "execution_count": 1,
   "id": "eed7da05-57f9-41c9-914e-a8886593678e",
   "metadata": {},
   "outputs": [
    {
     "name": "stdin",
     "output_type": "stream",
     "text": [
      "Enter a name:  Symone\n"
     ]
    }
   ],
   "source": [
    "# 1. Prompt for name input\n",
    "name = input(\"Enter a name: \")"
   ]
  },
  {
   "cell_type": "code",
   "execution_count": 2,
   "id": "4214db5f-3da8-4c87-a66c-936734627198",
   "metadata": {},
   "outputs": [],
   "source": [
    "# 2. Define the trunc_name function\n",
    "def trunc_name(name):\n",
    "    \"\"\"Truncates a name based on its starting letters.\"\"\"\n",
    "    name = name.lower()  # Convert to lowercase\n",
    "    if name[0] in 'aeiou':  # Starts with a vowel\n",
    "        return name\n",
    "    elif len(name) > 1 and name[1] in 'aeiou':  # Starts with one consonant\n",
    "        return name[1:]\n",
    "    else:  # Starts with two consonants\n",
    "        return name[2:]"
   ]
  },
  {
   "cell_type": "code",
   "execution_count": 3,
   "id": "0be46913-ef6b-4c19-a3d9-d84514151699",
   "metadata": {},
   "outputs": [
    {
     "name": "stdout",
     "output_type": "stream",
     "text": [
      "ann\n",
      "an\n",
      "an\n"
     ]
    }
   ],
   "source": [
    "# 3. Test the trunc_name function \n",
    "print(trunc_name(\"Ann\"))   # Output: ann\n",
    "print(trunc_name(\"Dan\"))   # Output: an\n",
    "print(trunc_name(\"Stan\"))  # Output: an"
   ]
  },
  {
   "cell_type": "code",
   "execution_count": 4,
   "id": "71feabc4-c8c4-4e10-bd6d-6ba8b0600f93",
   "metadata": {},
   "outputs": [],
   "source": [
    "# 4. Define the name_game generator function\n",
    "def name_game(name):\n",
    "    \"\"\"Generates the lines of the name game song.\"\"\"\n",
    "    truncated_name = trunc_name(name)\n",
    "    yield f\"{name}, {name}, bo-b{truncated_name}\"\n",
    "    yield f\"b{truncated_name} fana fo-f{truncated_name}\"\n",
    "    yield f\"me my mo-m{truncated_name}\"\n",
    "    yield f\"{name}!\""
   ]
  },
  {
   "cell_type": "code",
   "execution_count": 5,
   "id": "a4aa2817-9ea3-45e3-8270-bd362ef6aa90",
   "metadata": {},
   "outputs": [
    {
     "name": "stdout",
     "output_type": "stream",
     "text": [
      "\n",
      "\n",
      "Symone Gant, Symone Gant, bo-bmone gant\n",
      "bmone gant fana fo-fmone gant\n",
      "me my mo-mmone gant\n",
      "Symone Gant!\n",
      "\n",
      "\n",
      "carly, carly, bo-barly\n",
      "barly fana fo-farly\n",
      "me my mo-marly\n",
      "carly!\n",
      "\n",
      "\n",
      "CHARLIE, CHARLIE, bo-barlie\n",
      "barlie fana fo-farlie\n",
      "me my mo-marlie\n",
      "CHARLIE!\n",
      "\n",
      "\n",
      "Aidan, Aidan, bo-baidan\n",
      "baidan fana fo-faidan\n",
      "me my mo-maidan\n",
      "Aidan!\n",
      "\n",
      "\n",
      "Braden, Braden, bo-baden\n",
      "baden fana fo-faden\n",
      "me my mo-maden\n",
      "Braden!\n",
      "\n",
      "\n",
      "Billy Bob, Billy Bob, bo-billy bob\n",
      "billy bob fana fo-filly bob\n",
      "me my mo-milly bob\n",
      "Billy Bob!\n"
     ]
    }
   ],
   "source": [
    "# 5. Test the name_game function with different names\n",
    "names = [\"Symone Gant\", \"carly\", \"CHARLIE\", \"Aidan\", \"Braden\", \"Billy Bob\"]\n",
    "for name in names:\n",
    "    print(\"\\n\")  # Print a newline for readability\n",
    "    for line in name_game(name):\n",
    "        print(line)"
   ]
  }
 ],
 "metadata": {
  "kernelspec": {
   "display_name": "Python 3 (ipykernel)",
   "language": "python",
   "name": "python3"
  },
  "language_info": {
   "codemirror_mode": {
    "name": "ipython",
    "version": 3
   },
   "file_extension": ".py",
   "mimetype": "text/x-python",
   "name": "python",
   "nbconvert_exporter": "python",
   "pygments_lexer": "ipython3",
   "version": "3.11.9"
  }
 },
 "nbformat": 4,
 "nbformat_minor": 5
}
