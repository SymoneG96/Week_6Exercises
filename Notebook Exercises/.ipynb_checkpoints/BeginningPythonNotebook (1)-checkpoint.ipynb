{
 "cells": [
  {
   "cell_type": "markdown",
   "metadata": {},
   "source": [
    "# Simple Starting Practice:"
   ]
  },
  {
   "cell_type": "markdown",
   "metadata": {},
   "source": [
    "## Data Types and Basic Expressions\n",
    "\n",
    "In each of the following cells, write two lines of code, using `print()` to display the value and `type()` to confirm its datatype.\n",
    "\n",
    "*print('example')*\n",
    "\n",
    "*type('example')*"
   ]
  },
  {
   "cell_type": "code",
   "execution_count": 1,
   "metadata": {
    "scrolled": true
   },
   "outputs": [
    {
     "name": "stdout",
     "output_type": "stream",
     "text": [
      "6\n"
     ]
    },
    {
     "data": {
      "text/plain": [
       "int"
      ]
     },
     "execution_count": 1,
     "metadata": {},
     "output_type": "execute_result"
    }
   ],
   "source": [
    "# Give an example of an integer and confirm the datatype:\n",
    "print (6)\n",
    "type(6)\n"
   ]
  },
  {
   "cell_type": "code",
   "execution_count": 2,
   "metadata": {},
   "outputs": [
    {
     "name": "stdout",
     "output_type": "stream",
     "text": [
      "3.14\n"
     ]
    },
    {
     "data": {
      "text/plain": [
       "float"
      ]
     },
     "execution_count": 2,
     "metadata": {},
     "output_type": "execute_result"
    }
   ],
   "source": [
    "# Give an example of a float and confirm the datatype:\n",
    "print(3.14)\n",
    "type(3.14)\n"
   ]
  },
  {
   "cell_type": "code",
   "execution_count": 3,
   "metadata": {},
   "outputs": [
    {
     "name": "stdout",
     "output_type": "stream",
     "text": [
      "Hello, world!\n"
     ]
    },
    {
     "data": {
      "text/plain": [
       "str"
      ]
     },
     "execution_count": 3,
     "metadata": {},
     "output_type": "execute_result"
    }
   ],
   "source": [
    "# Give an example of a string and confirm the datatype:\n",
    "print(\"Hello, world!\")\n",
    "type(\"Hello, world!\")\n"
   ]
  },
  {
   "cell_type": "code",
   "execution_count": 4,
   "metadata": {},
   "outputs": [
    {
     "name": "stdout",
     "output_type": "stream",
     "text": [
      "True\n"
     ]
    },
    {
     "data": {
      "text/plain": [
       "bool"
      ]
     },
     "execution_count": 4,
     "metadata": {},
     "output_type": "execute_result"
    }
   ],
   "source": [
    "# Give an example of a boolean and confirm the datatype:\n",
    "print(True)\n",
    "type(True)\n"
   ]
  },
  {
   "cell_type": "markdown",
   "metadata": {},
   "source": [
    "Answer the following questions by writing a line of code to demonstrate what happens in each case, inventing your own examples for each question and running the cell to display the result. If you have any additional comments, include them as a comment below your code."
   ]
  },
  {
   "cell_type": "code",
   "execution_count": 5,
   "metadata": {},
   "outputs": [
    {
     "name": "stdout",
     "output_type": "stream",
     "text": [
      "13.14\n"
     ]
    },
    {
     "data": {
      "text/plain": [
       "float"
      ]
     },
     "execution_count": 5,
     "metadata": {},
     "output_type": "execute_result"
    }
   ],
   "source": [
    "# Can you add a float to an integer? What happens? \n",
    "result = 3.14 + 10\n",
    "print(result)  # Output: 13.14\n",
    "type(result)  # Output: <class 'float'>\n",
    "\n",
    "# When you add a float to an integer, the result is always a float."
   ]
  },
  {
   "cell_type": "code",
   "execution_count": 6,
   "metadata": {},
   "outputs": [
    {
     "ename": "TypeError",
     "evalue": "can only concatenate str (not \"int\") to str",
     "output_type": "error",
     "traceback": [
      "\u001b[1;31m---------------------------------------------------------------------------\u001b[0m",
      "\u001b[1;31mTypeError\u001b[0m                                 Traceback (most recent call last)",
      "Cell \u001b[1;32mIn[6], line 2\u001b[0m\n\u001b[0;32m      1\u001b[0m \u001b[38;5;66;03m# Can you add a string to an integer? What happens?\u001b[39;00m\n\u001b[1;32m----> 2\u001b[0m result \u001b[38;5;241m=\u001b[39m \u001b[38;5;124;43m\"\u001b[39;49m\u001b[38;5;124;43mHello\u001b[39;49m\u001b[38;5;124;43m\"\u001b[39;49m\u001b[43m \u001b[49m\u001b[38;5;241;43m+\u001b[39;49m\u001b[43m \u001b[49m\u001b[38;5;241;43m10\u001b[39;49m\n\u001b[0;32m      4\u001b[0m \u001b[38;5;66;03m# This will result in a TypeError because you cannot directly add a string to an integer.\u001b[39;00m\n",
      "\u001b[1;31mTypeError\u001b[0m: can only concatenate str (not \"int\") to str"
     ]
    }
   ],
   "source": [
    "# Can you add a string to an integer? What happens?\n",
    "result = \"Hello\" + 10\n",
    "\n",
    "# This will result in a TypeError because you cannot directly add a string to an integer."
   ]
  },
  {
   "cell_type": "code",
   "execution_count": 7,
   "metadata": {},
   "outputs": [
    {
     "name": "stdout",
     "output_type": "stream",
     "text": [
      "11\n"
     ]
    }
   ],
   "source": [
    "# Can you add a boolean to an integer? What happens?\n",
    "result = True + 10\n",
    "print(result)  # Output: 11\n",
    "\n",
    "# Booleans are treated as 1 (True) or 0 (False) in arithmetic operations."
   ]
  },
  {
   "cell_type": "code",
   "execution_count": 8,
   "metadata": {},
   "outputs": [
    {
     "ename": "TypeError",
     "evalue": "unsupported operand type(s) for +: 'bool' and 'str'",
     "output_type": "error",
     "traceback": [
      "\u001b[1;31m---------------------------------------------------------------------------\u001b[0m",
      "\u001b[1;31mTypeError\u001b[0m                                 Traceback (most recent call last)",
      "Cell \u001b[1;32mIn[8], line 2\u001b[0m\n\u001b[0;32m      1\u001b[0m \u001b[38;5;66;03m# Can you add a boolean to a string? What happens?\u001b[39;00m\n\u001b[1;32m----> 2\u001b[0m result \u001b[38;5;241m=\u001b[39m \u001b[38;5;28;43;01mTrue\u001b[39;49;00m\u001b[43m \u001b[49m\u001b[38;5;241;43m+\u001b[39;49m\u001b[43m \u001b[49m\u001b[38;5;124;43m\"\u001b[39;49m\u001b[38;5;124;43mHello\u001b[39;49m\u001b[38;5;124;43m\"\u001b[39;49m\n\u001b[0;32m      4\u001b[0m \u001b[38;5;66;03m# This will result in a TypeError because you cannot directly add a boolean to a string.\u001b[39;00m\n",
      "\u001b[1;31mTypeError\u001b[0m: unsupported operand type(s) for +: 'bool' and 'str'"
     ]
    }
   ],
   "source": [
    "# Can you add a boolean to a string? What happens?\n",
    "result = True + \"Hello\"\n",
    "\n",
    "# This will result in a TypeError because you cannot directly add a boolean to a string."
   ]
  },
  {
   "cell_type": "code",
   "execution_count": 9,
   "metadata": {},
   "outputs": [
    {
     "name": "stdout",
     "output_type": "stream",
     "text": [
      "2.0\n",
      "2\n"
     ]
    },
    {
     "data": {
      "text/plain": [
       "int"
      ]
     },
     "execution_count": 9,
     "metadata": {},
     "output_type": "execute_result"
    }
   ],
   "source": [
    "# What happens when you divide an integer by an integer? \n",
    "result1 = 10 / 5\n",
    "print(result1)  # Output: 2.0\n",
    "type(result1)  # Output: <class 'float'>\n",
    "\n",
    "result2 = 10 // 5\n",
    "print(result2)  # Output: 2\n",
    "type(result2)  # Output: <class 'int'>\n",
    "\n",
    "# Using / for division always results in a float. Using // for division performs integer division."
   ]
  },
  {
   "cell_type": "markdown",
   "metadata": {},
   "source": [
    "## Typecasting\n",
    "\n",
    "In each of the following cells, cast the value into the specified datatype, and run the cell to check your results:"
   ]
  },
  {
   "cell_type": "code",
   "execution_count": 10,
   "metadata": {},
   "outputs": [
    {
     "name": "stdout",
     "output_type": "stream",
     "text": [
      "12\n"
     ]
    }
   ],
   "source": [
    "# Transform the below value into an integer using the int() function\n",
    "12\n",
    "value = 12\n",
    "integer_value = int(value)\n",
    "print(integer_value)  # Output: 12"
   ]
  },
  {
   "cell_type": "code",
   "execution_count": 11,
   "metadata": {},
   "outputs": [
    {
     "name": "stdout",
     "output_type": "stream",
     "text": [
      "55.0\n"
     ]
    }
   ],
   "source": [
    "# Transform the below value into an float using the float() function\n",
    "\n",
    "55\n",
    "\n",
    "value = 55\n",
    "float_value = float(value)\n",
    "print(float_value)  # Output: 55.0"
   ]
  },
  {
   "cell_type": "code",
   "execution_count": 12,
   "metadata": {},
   "outputs": [
    {
     "name": "stdout",
     "output_type": "stream",
     "text": [
      "765\n"
     ]
    }
   ],
   "source": [
    "# Transform the below value into a string using the str() function\n",
    "\n",
    "765\n",
    "\n",
    "value = 765\n",
    "string_value = str(value)\n",
    "print(string_value)  # Output: \"765\""
   ]
  },
  {
   "cell_type": "code",
   "execution_count": 13,
   "metadata": {},
   "outputs": [
    {
     "name": "stdout",
     "output_type": "stream",
     "text": [
      "False\n"
     ]
    }
   ],
   "source": [
    "# Transform the below value into a boolean using the bool() function\n",
    "\n",
    "0\n",
    "\n",
    "value = 0\n",
    "boolean_value = bool(value)\n",
    "print(boolean_value)  # Output: False"
   ]
  },
  {
   "cell_type": "code",
   "execution_count": 14,
   "metadata": {},
   "outputs": [
    {
     "name": "stdout",
     "output_type": "stream",
     "text": [
      "Boolean value of 0: False\n",
      "Boolean value of 1: True\n",
      "Boolean value of -5: True\n",
      "Boolean value of 3.14: True\n",
      "Boolean value of \"\": False\n",
      "Boolean value of \"hello\": True\n",
      "Boolean value of None: False\n"
     ]
    }
   ],
   "source": [
    "# What other number or string value(s) can be typecast as boolean values? Use the print() function to list them\n",
    "print(\"Boolean value of 0:\", bool(0))\n",
    "print(\"Boolean value of 1:\", bool(1))\n",
    "print(\"Boolean value of -5:\", bool(-5))\n",
    "print(\"Boolean value of 3.14:\", bool(3.14))\n",
    "print('Boolean value of \"\":', bool(\"\"))\n",
    "print('Boolean value of \"hello\":', bool(\"hello\"))\n",
    "print(\"Boolean value of None:\", bool(None))"
   ]
  },
  {
   "cell_type": "code",
   "execution_count": null,
   "metadata": {},
   "outputs": [],
   "source": [
    "# What's the difference between 0 and 0.0?  Write your answer below as a code comment.\n",
    "\n",
    "#There is no difference between 0 and 0.0 in terms of their value. They both represent the same numerical value, zero.\n",
    "\n",
    "# The difference lies in their datatypes: 0 is an integer (int) & 0.0 is a float (float)"
   ]
  },
  {
   "cell_type": "markdown",
   "metadata": {},
   "source": [
    "## Math with Integers and Floats\n",
    "\n",
    "### Understanding the difference between `/` and `//` (and how this impacts datatypes)\n",
    "\n",
    "Write an expression to illustrate the answer to each question below. Make sure to run the cell to check your results."
   ]
  },
  {
   "cell_type": "code",
   "execution_count": 15,
   "metadata": {},
   "outputs": [
    {
     "name": "stdout",
     "output_type": "stream",
     "text": [
      "4\n"
     ]
    }
   ],
   "source": [
    "# What is the result of 2 times 2?\n",
    "# Multiplication\n",
    "result = 2 * 2\n",
    "print(result)  # Output: 4\n",
    "\n"
   ]
  },
  {
   "cell_type": "code",
   "execution_count": 16,
   "metadata": {},
   "outputs": [
    {
     "name": "stdout",
     "output_type": "stream",
     "text": [
      "2.0\n"
     ]
    }
   ],
   "source": [
    "# What is the result of 4 divided by 2, using regular division?\n",
    "# Regular division\n",
    "result = 4 / 2\n",
    "print(result)  # Output: 2.0\n"
   ]
  },
  {
   "cell_type": "code",
   "execution_count": 17,
   "metadata": {},
   "outputs": [
    {
     "name": "stdout",
     "output_type": "stream",
     "text": [
      "2\n"
     ]
    }
   ],
   "source": [
    "# What is the result of 4 divided by 2, using floor division?\n",
    "# Floor division\n",
    "result = 4 // 2\n",
    "print(result)  # Output: 2\n"
   ]
  },
  {
   "cell_type": "code",
   "execution_count": 18,
   "metadata": {},
   "outputs": [
    {
     "name": "stdout",
     "output_type": "stream",
     "text": [
      "5.0\n"
     ]
    }
   ],
   "source": [
    "# Ok, how about 2 times 2.5?\n",
    "result = 2 * 2.5\n",
    "print(result)  # Output: 5.0\n"
   ]
  },
  {
   "cell_type": "code",
   "execution_count": 19,
   "metadata": {},
   "outputs": [
    {
     "name": "stdout",
     "output_type": "stream",
     "text": [
      "2.5\n"
     ]
    }
   ],
   "source": [
    "# What's 5 divided by 2 using regular division?\n",
    "# Regular division\n",
    "result = 5 / 2\n",
    "print(result)  # Output: 2.5\n"
   ]
  },
  {
   "cell_type": "code",
   "execution_count": 20,
   "metadata": {},
   "outputs": [
    {
     "name": "stdout",
     "output_type": "stream",
     "text": [
      "2\n"
     ]
    }
   ],
   "source": [
    "# What's 5 divided by 2 using floor division?\n",
    "result = 5 // 2\n",
    "print(result)  # Output: 2\n"
   ]
  },
  {
   "cell_type": "code",
   "execution_count": null,
   "metadata": {},
   "outputs": [],
   "source": [
    "# When might you want to use floor division instead of normal division? (Write your answer as a code comment below.)\n",
    "\n",
    "# Use floor division when you need the result to be a whole number, discarding any remainder or decimal portion."
   ]
  }
 ],
 "metadata": {
  "kernelspec": {
   "display_name": "Python 3 (ipykernel)",
   "language": "python",
   "name": "python3"
  },
  "language_info": {
   "codemirror_mode": {
    "name": "ipython",
    "version": 3
   },
   "file_extension": ".py",
   "mimetype": "text/x-python",
   "name": "python",
   "nbconvert_exporter": "python",
   "pygments_lexer": "ipython3",
   "version": "3.11.9"
  }
 },
 "nbformat": 4,
 "nbformat_minor": 4
}
